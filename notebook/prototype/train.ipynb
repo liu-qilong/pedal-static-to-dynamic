{
 "cells": [
  {
   "cell_type": "code",
   "execution_count": 1,
   "metadata": {},
   "outputs": [],
   "source": [
    "import sys\n",
    "sys.path.append('../..')"
   ]
  },
  {
   "cell_type": "code",
   "execution_count": 2,
   "metadata": {},
   "outputs": [
    {
     "data": {
      "text/plain": [
       "'mps'"
      ]
     },
     "execution_count": 2,
     "metadata": {},
     "output_type": "execute_result"
    }
   ],
   "source": [
    "import torch\n",
    "\n",
    "from src.tool import config\n",
    "from src import dataset, dataloader, model, loss, metric, optimizer\n",
    "from src.tool.registry import DATASET_REGISTRY, DATALOADER_REGISTRY, MODEL_REGISTRY, LOSS_REGISTRY, METRIC_REGISTRY, OPTIMIZER_REGISTRY\n",
    "\n",
    "# torch settings\n",
    "torch.manual_seed(0)\n",
    "\n",
    "if torch.cuda.is_available():\n",
    "    device = 'cuda'\n",
    "if torch.backends.mps.is_available():\n",
    "    device = 'mps'\n",
    "else:\n",
    "    device = 'cpu'\n",
    "\n",
    "device"
   ]
  },
  {
   "cell_type": "code",
   "execution_count": 3,
   "metadata": {},
   "outputs": [
    {
     "data": {
      "text/plain": [
       "CfgNode({'dataset': CfgNode({'name': 'Pedar_Dataset_static2dynamic', 'train_ratio': 0.8, 'args': CfgNode({'pedar_static': 'data/processed/pedar_static.pkl', 'pedar_dynamic': 'data/processed/pedar_dynamic.pkl', 'sense_range': 600})}), 'dataloader': CfgNode({'name': 'DataLoader', 'args': CfgNode({'batch_size': 32, 'shuffle': True})}), 'model': CfgNode({'name': 'MLP', 'args': CfgNode({'input_size': 198, 'hidden_size': 256, 'output_size': 198})}), 'loss': CfgNode({'name': 'MSELoss', 'args': CfgNode({})}), 'metric': CfgNode({'MAE': CfgNode({'name': 'L1Loss', 'args': CfgNode({})})}), 'optimizer': CfgNode({'name': 'SGD', 'epoch': 100, 'args': CfgNode({'lr': 0.1})})})"
      ]
     },
     "execution_count": 3,
     "metadata": {},
     "output_type": "execute_result"
    }
   ],
   "source": [
    "# load options\n",
    "path = '../../experiment/20210615/'\n",
    "opt = config.load_config(path)\n",
    "opt"
   ]
  },
  {
   "cell_type": "code",
   "execution_count": 4,
   "metadata": {},
   "outputs": [
    {
     "data": {
      "text/plain": [
       "CfgNode({'dataset': CfgNode({'name': 'Pedar_Dataset_static2dynamic', 'train_ratio': 0.8, 'args': CfgNode({'pedar_static': '../../data/processed/pedar_static.pkl', 'pedar_dynamic': '../../data/processed/pedar_dynamic.pkl', 'sense_range': 600})}), 'dataloader': CfgNode({'name': 'DataLoader', 'args': CfgNode({'batch_size': 32, 'shuffle': True})}), 'model': CfgNode({'name': 'MLP', 'args': CfgNode({'input_size': 198, 'hidden_size': 256, 'output_size': 198})}), 'loss': CfgNode({'name': 'MSELoss', 'args': CfgNode({})}), 'metric': CfgNode({'MAE': CfgNode({'name': 'L1Loss', 'args': CfgNode({})})}), 'optimizer': CfgNode({'name': 'SGD', 'epoch': 100, 'args': CfgNode({'lr': 0.1})})})"
      ]
     },
     "execution_count": 4,
     "metadata": {},
     "output_type": "execute_result"
    }
   ],
   "source": [
    "opt.dataset.args.pedar_static = '../../data/processed/pedar_static.pkl'\n",
    "opt.dataset.args.pedar_dynamic = '../../data/processed/pedar_dynamic.pkl'\n",
    "opt"
   ]
  },
  {
   "cell_type": "markdown",
   "metadata": {},
   "source": [
    "## Data loading"
   ]
  },
  {
   "cell_type": "code",
   "execution_count": 5,
   "metadata": {},
   "outputs": [],
   "source": [
    "from torch.utils.data import random_split\n",
    "\n",
    "full_dataset = DATASET_REGISTRY[opt.dataset.name](**opt.dataset.args)\n",
    "train_dataset, test_dataset = random_split(full_dataset, [opt.dataset.train_ratio, 1 - opt.dataset.train_ratio])\n",
    "\n",
    "train_dataloader = DATALOADER_REGISTRY[opt.dataloader.name](train_dataset, **opt.dataloader.args)\n",
    "test_dataloader = DATALOADER_REGISTRY[opt.dataloader.name](test_dataset, **opt.dataloader.args)"
   ]
  },
  {
   "cell_type": "markdown",
   "metadata": {},
   "source": [
    "## Launch training"
   ]
  },
  {
   "cell_type": "code",
   "execution_count": 6,
   "metadata": {},
   "outputs": [
    {
     "data": {
      "application/vnd.jupyter.widget-view+json": {
       "model_id": "872a713f22874962b11c2f9853f0f241",
       "version_major": 2,
       "version_minor": 0
      },
      "text/plain": [
       "  0%|          | 0/100 [00:00<?, ?it/s]"
      ]
     },
     "metadata": {},
     "output_type": "display_data"
    },
    {
     "name": "stdout",
     "output_type": "stream",
     "text": [
      "model saved to ../../experiment/20210615/model.pth\n",
      "model and optimizer saved ../../experiment/20210615/optimizer.pth\n",
      "epoch: 1 | train_loss: 0.1661 | test_loss: 0.1611\n",
      "epoch: 2 | train_loss: 0.1554 | test_loss: 0.1506\n",
      "epoch: 3 | train_loss: 0.1454 | test_loss: 0.1409\n",
      "epoch: 4 | train_loss: 0.1356 | test_loss: 0.1317\n",
      "epoch: 5 | train_loss: 0.1268 | test_loss: 0.1231\n",
      "epoch: 6 | train_loss: 0.1184 | test_loss: 0.1150\n",
      "epoch: 7 | train_loss: 0.1108 | test_loss: 0.1075\n",
      "epoch: 8 | train_loss: 0.1033 | test_loss: 0.1003\n",
      "epoch: 9 | train_loss: 0.0966 | test_loss: 0.0936\n",
      "epoch: 10 | train_loss: 0.0903 | test_loss: 0.0875\n",
      "model saved to ../../experiment/20210615/model.pth\n",
      "model and optimizer saved ../../experiment/20210615/optimizer.pth\n",
      "epoch: 11 | train_loss: 0.0841 | test_loss: 0.0817\n",
      "epoch: 12 | train_loss: 0.0784 | test_loss: 0.0764\n",
      "epoch: 13 | train_loss: 0.0733 | test_loss: 0.0714\n",
      "epoch: 14 | train_loss: 0.0685 | test_loss: 0.0666\n",
      "epoch: 15 | train_loss: 0.0640 | test_loss: 0.0622\n",
      "epoch: 16 | train_loss: 0.0598 | test_loss: 0.0581\n",
      "epoch: 17 | train_loss: 0.0559 | test_loss: 0.0545\n",
      "epoch: 18 | train_loss: 0.0522 | test_loss: 0.0510\n",
      "epoch: 19 | train_loss: 0.0489 | test_loss: 0.0477\n",
      "epoch: 20 | train_loss: 0.0457 | test_loss: 0.0447\n",
      "model saved to ../../experiment/20210615/model.pth\n",
      "model and optimizer saved ../../experiment/20210615/optimizer.pth\n",
      "epoch: 21 | train_loss: 0.0430 | test_loss: 0.0420\n",
      "epoch: 22 | train_loss: 0.0403 | test_loss: 0.0394\n",
      "epoch: 23 | train_loss: 0.0379 | test_loss: 0.0370\n",
      "epoch: 24 | train_loss: 0.0356 | test_loss: 0.0349\n",
      "epoch: 25 | train_loss: 0.0334 | test_loss: 0.0328\n",
      "epoch: 26 | train_loss: 0.0315 | test_loss: 0.0309\n",
      "epoch: 27 | train_loss: 0.0297 | test_loss: 0.0292\n",
      "epoch: 28 | train_loss: 0.0280 | test_loss: 0.0275\n",
      "epoch: 29 | train_loss: 0.0264 | test_loss: 0.0260\n",
      "epoch: 30 | train_loss: 0.0250 | test_loss: 0.0246\n",
      "model saved to ../../experiment/20210615/model.pth\n",
      "model and optimizer saved ../../experiment/20210615/optimizer.pth\n",
      "epoch: 31 | train_loss: 0.0236 | test_loss: 0.0233\n",
      "epoch: 32 | train_loss: 0.0224 | test_loss: 0.0221\n",
      "epoch: 33 | train_loss: 0.0212 | test_loss: 0.0210\n",
      "epoch: 34 | train_loss: 0.0202 | test_loss: 0.0200\n",
      "epoch: 35 | train_loss: 0.0191 | test_loss: 0.0189\n",
      "epoch: 36 | train_loss: 0.0182 | test_loss: 0.0181\n",
      "epoch: 37 | train_loss: 0.0173 | test_loss: 0.0172\n",
      "epoch: 38 | train_loss: 0.0165 | test_loss: 0.0165\n",
      "epoch: 39 | train_loss: 0.0157 | test_loss: 0.0157\n",
      "epoch: 40 | train_loss: 0.0151 | test_loss: 0.0150\n",
      "model saved to ../../experiment/20210615/model.pth\n",
      "model and optimizer saved ../../experiment/20210615/optimizer.pth\n",
      "epoch: 41 | train_loss: 0.0144 | test_loss: 0.0144\n",
      "epoch: 42 | train_loss: 0.0138 | test_loss: 0.0138\n",
      "epoch: 43 | train_loss: 0.0132 | test_loss: 0.0132\n",
      "epoch: 44 | train_loss: 0.0127 | test_loss: 0.0126\n",
      "epoch: 45 | train_loss: 0.0122 | test_loss: 0.0121\n",
      "epoch: 46 | train_loss: 0.0116 | test_loss: 0.0117\n",
      "epoch: 47 | train_loss: 0.0112 | test_loss: 0.0112\n",
      "epoch: 48 | train_loss: 0.0108 | test_loss: 0.0108\n",
      "epoch: 49 | train_loss: 0.0104 | test_loss: 0.0104\n",
      "epoch: 50 | train_loss: 0.0100 | test_loss: 0.0100\n",
      "model saved to ../../experiment/20210615/model.pth\n",
      "model and optimizer saved ../../experiment/20210615/optimizer.pth\n",
      "epoch: 51 | train_loss: 0.0097 | test_loss: 0.0097\n",
      "epoch: 52 | train_loss: 0.0093 | test_loss: 0.0093\n",
      "epoch: 53 | train_loss: 0.0090 | test_loss: 0.0090\n",
      "epoch: 54 | train_loss: 0.0087 | test_loss: 0.0087\n",
      "epoch: 55 | train_loss: 0.0084 | test_loss: 0.0085\n",
      "epoch: 56 | train_loss: 0.0082 | test_loss: 0.0082\n",
      "epoch: 57 | train_loss: 0.0079 | test_loss: 0.0080\n",
      "epoch: 58 | train_loss: 0.0077 | test_loss: 0.0077\n",
      "epoch: 59 | train_loss: 0.0074 | test_loss: 0.0075\n",
      "epoch: 60 | train_loss: 0.0073 | test_loss: 0.0073\n",
      "model saved to ../../experiment/20210615/model.pth\n",
      "model and optimizer saved ../../experiment/20210615/optimizer.pth\n",
      "epoch: 61 | train_loss: 0.0070 | test_loss: 0.0071\n",
      "epoch: 62 | train_loss: 0.0068 | test_loss: 0.0069\n",
      "epoch: 63 | train_loss: 0.0066 | test_loss: 0.0067\n",
      "epoch: 64 | train_loss: 0.0065 | test_loss: 0.0065\n",
      "epoch: 65 | train_loss: 0.0062 | test_loss: 0.0063\n",
      "epoch: 66 | train_loss: 0.0061 | test_loss: 0.0062\n",
      "epoch: 67 | train_loss: 0.0059 | test_loss: 0.0060\n",
      "epoch: 68 | train_loss: 0.0058 | test_loss: 0.0059\n",
      "epoch: 69 | train_loss: 0.0057 | test_loss: 0.0058\n",
      "epoch: 70 | train_loss: 0.0055 | test_loss: 0.0056\n",
      "model saved to ../../experiment/20210615/model.pth\n",
      "model and optimizer saved ../../experiment/20210615/optimizer.pth\n",
      "epoch: 71 | train_loss: 0.0054 | test_loss: 0.0055\n",
      "epoch: 72 | train_loss: 0.0053 | test_loss: 0.0054\n",
      "epoch: 73 | train_loss: 0.0052 | test_loss: 0.0052\n",
      "epoch: 74 | train_loss: 0.0051 | test_loss: 0.0051\n",
      "epoch: 75 | train_loss: 0.0049 | test_loss: 0.0050\n",
      "epoch: 76 | train_loss: 0.0049 | test_loss: 0.0049\n",
      "epoch: 77 | train_loss: 0.0048 | test_loss: 0.0048\n",
      "epoch: 78 | train_loss: 0.0047 | test_loss: 0.0047\n",
      "epoch: 79 | train_loss: 0.0046 | test_loss: 0.0047\n",
      "epoch: 80 | train_loss: 0.0045 | test_loss: 0.0045\n",
      "model saved to ../../experiment/20210615/model.pth\n",
      "model and optimizer saved ../../experiment/20210615/optimizer.pth\n",
      "epoch: 81 | train_loss: 0.0044 | test_loss: 0.0045\n",
      "epoch: 82 | train_loss: 0.0043 | test_loss: 0.0044\n",
      "epoch: 83 | train_loss: 0.0043 | test_loss: 0.0043\n",
      "epoch: 84 | train_loss: 0.0042 | test_loss: 0.0042\n",
      "epoch: 85 | train_loss: 0.0041 | test_loss: 0.0042\n",
      "epoch: 86 | train_loss: 0.0040 | test_loss: 0.0041\n",
      "epoch: 87 | train_loss: 0.0040 | test_loss: 0.0040\n",
      "epoch: 88 | train_loss: 0.0040 | test_loss: 0.0040\n",
      "epoch: 89 | train_loss: 0.0039 | test_loss: 0.0039\n",
      "epoch: 90 | train_loss: 0.0038 | test_loss: 0.0038\n",
      "model saved to ../../experiment/20210615/model.pth\n",
      "model and optimizer saved ../../experiment/20210615/optimizer.pth\n",
      "epoch: 91 | train_loss: 0.0037 | test_loss: 0.0038\n",
      "epoch: 92 | train_loss: 0.0037 | test_loss: 0.0037\n",
      "epoch: 93 | train_loss: 0.0036 | test_loss: 0.0037\n",
      "epoch: 94 | train_loss: 0.0036 | test_loss: 0.0037\n",
      "epoch: 95 | train_loss: 0.0036 | test_loss: 0.0036\n",
      "epoch: 96 | train_loss: 0.0035 | test_loss: 0.0035\n",
      "epoch: 97 | train_loss: 0.0035 | test_loss: 0.0035\n",
      "epoch: 98 | train_loss: 0.0034 | test_loss: 0.0034\n",
      "epoch: 99 | train_loss: 0.0034 | test_loss: 0.0034\n",
      "epoch: 100 | train_loss: 0.0033 | test_loss: 0.0034\n",
      "model saved to ../../experiment/20210615/model.pth\n",
      "model and optimizer saved ../../experiment/20210615/optimizer.pth\n",
      "logs saved\n"
     ]
    }
   ],
   "source": [
    "from src.tool import train\n",
    "\n",
    "model = MODEL_REGISTRY[opt.model.name](**opt.model.args).to(device)\n",
    "loss = LOSS_REGISTRY[opt.loss.name](**opt.loss.args)\n",
    "optimizer = OPTIMIZER_REGISTRY[opt.optimizer.name](**opt.optimizer.args, params=model.parameters())\n",
    "\n",
    "save_interval = 10\n",
    "logs = train.train_loop(path, model, train_dataloader, test_dataloader, optimizer, loss, opt.optimizer.epoch, device, save_interval)"
   ]
  },
  {
   "cell_type": "code",
   "execution_count": null,
   "metadata": {},
   "outputs": [],
   "source": []
  }
 ],
 "metadata": {
  "kernelspec": {
   "display_name": "pytorch",
   "language": "python",
   "name": "python3"
  },
  "language_info": {
   "codemirror_mode": {
    "name": "ipython",
    "version": 3
   },
   "file_extension": ".py",
   "mimetype": "text/x-python",
   "name": "python",
   "nbconvert_exporter": "python",
   "pygments_lexer": "ipython3",
   "version": "3.9.16"
  }
 },
 "nbformat": 4,
 "nbformat_minor": 2
}
