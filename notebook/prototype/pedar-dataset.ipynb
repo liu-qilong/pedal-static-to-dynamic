{
 "cells": [
  {
   "cell_type": "code",
   "execution_count": 13,
   "metadata": {},
   "outputs": [
    {
     "data": {
      "text/plain": [
       "<torch._C.Generator at 0x7fddf1aa3e70>"
      ]
     },
     "execution_count": 13,
     "metadata": {},
     "output_type": "execute_result"
    }
   ],
   "source": [
    "import torch\n",
    "torch.manual_seed(0)"
   ]
  },
  {
   "cell_type": "code",
   "execution_count": 14,
   "metadata": {},
   "outputs": [
    {
     "data": {
      "text/plain": [
       "'mps'"
      ]
     },
     "execution_count": 14,
     "metadata": {},
     "output_type": "execute_result"
    }
   ],
   "source": [
    "if torch.cuda.is_available():\n",
    "    device = 'cuda'\n",
    "if torch.backends.mps.is_available():\n",
    "    device = 'mps'\n",
    "else:\n",
    "    device = 'cpu'\n",
    "\n",
    "device"
   ]
  },
  {
   "cell_type": "markdown",
   "metadata": {},
   "source": [
    "## Dataset"
   ]
  },
  {
   "cell_type": "code",
   "execution_count": 54,
   "metadata": {},
   "outputs": [],
   "source": [
    "import numpy as np\n",
    "import pandas as pd\n",
    "from PIL import Image, ImageOps\n",
    "from matplotlib import pyplot as plt\n",
    "from torch.utils.data import Dataset\n",
    "\n",
    "class Pedar_Dataset_static2dynamic(Dataset):\n",
    "    def __init__(self, static_path: str, dynamic_path: str, sense_range: float = 600, dtype = torch.float32, transform = None, target_transform = None):\n",
    "        self.pedar_static = pd.read_pickle(static_path)\n",
    "        self.pedar_dynamic = pd.read_pickle(dynamic_path)\n",
    "        self.index = self.pedar_static.index\n",
    "        \n",
    "        self.dtype = dtype\n",
    "        self.sense_range = sense_range\n",
    "\n",
    "        self.transform = transform\n",
    "        self.target_transform = target_transform\n",
    "\n",
    "    def __len__(self):\n",
    "        return len(self.index)\n",
    "\n",
    "    def __getitem__(self, idx: int):\n",
    "        # get corresponding static and dynamic pressure data\n",
    "        # transform to torch tensor and divide by the sense range\n",
    "        static_pressure = torch.from_numpy(self.pedar_static.loc[self.index[idx], :].values).type(self.dtype) / self.sense_range\n",
    "        dynamic_pressure = torch.from_numpy(self.pedar_dynamic.loc[self.index[idx], :].values).type(self.dtype) / self.sense_range\n",
    "\n",
    "        if self.transform:\n",
    "            static_pressure = self.transform(static_pressure)\n",
    "        if self.target_transform:\n",
    "            dynamic_pressure = self.target_transform(dynamic_pressure)\n",
    "\n",
    "        return static_pressure, dynamic_pressure\n",
    "    \n",
    "    def draw_heatmap(self, arr: np.array, l_mask_path: str = 'config/left_foot_mask.png', plot: bool = True, vmin: float = 0.0, vmax: float = 600.0):\n",
    "        # load foot masks\n",
    "        l_img = Image.open(l_mask_path)\n",
    "        r_img = ImageOps.mirror(l_img)\n",
    "\n",
    "        l_mask = np.array(l_img).astype(np.float64)\n",
    "        r_mask = np.array(r_img).astype(np.float64)\n",
    "\n",
    "        # detect pixels of area no.1~197 and store the corresponding indexes\n",
    "        l_index = {}\n",
    "        r_index = {}\n",
    "\n",
    "        for n in range(0, 198):\n",
    "            l_index[n] = np.where(l_mask == n + 1)\n",
    "            r_index[n + 99] = np.where(r_mask == n + 1)\n",
    "\n",
    "        # create left and right foot heatmap\n",
    "        l_pedar = np.zeros(l_mask.shape)\n",
    "        r_pedar = np.zeros(r_mask.shape)\n",
    "\n",
    "        for idx, value in enumerate(arr):\n",
    "            if idx <= 99:\n",
    "                # filling left foot area\n",
    "                l_pedar[l_index[idx]] = value * self.sense_range\n",
    "\n",
    "            else:\n",
    "                # filling right foot area\n",
    "                r_pedar[r_index[idx]] = value * self.sense_range\n",
    "\n",
    "        # plot heatmap\n",
    "        if plot:\n",
    "            fig, axs = plt.subplots(1, 2)\n",
    "            \n",
    "            im = axs[0].imshow(l_pedar, vmin=vmin, vmax=vmax)\n",
    "            axs[0].set_title('left')\n",
    "            axs[0].axis('off')\n",
    "            fig.colorbar(im, ax=axs[0])\n",
    "\n",
    "            im = axs[1].imshow(r_pedar, vmin=vmin, vmax=vmax)\n",
    "            axs[1].set_title('right')\n",
    "            axs[1].axis('off')\n",
    "            fig.colorbar(im, ax=axs[1])\n",
    "\n",
    "            plt.show()\n",
    "\n",
    "dataset = Pedar_Dataset_static2dynamic(static_path='output/pedar_static.pkl', dynamic_path='output/pedar_dynamic.pkl')"
   ]
  },
  {
   "cell_type": "markdown",
   "metadata": {},
   "source": [
    "## Dataset item check"
   ]
  },
  {
   "cell_type": "code",
   "execution_count": 55,
   "metadata": {},
   "outputs": [
    {
     "data": {
      "text/plain": [
       "(300,\n",
       " MultiIndex([(   'BF',  'S1'),\n",
       "             (   'BF', 'S10'),\n",
       "             (   'BF', 'S11'),\n",
       "             (   'BF', 'S12'),\n",
       "             (   'BF', 'S13'),\n",
       "             (   'BF', 'S15'),\n",
       "             (   'BF', 'S16'),\n",
       "             (   'BF', 'S17'),\n",
       "             (   'BF', 'S18'),\n",
       "             (   'BF', 'S19'),\n",
       "             ...\n",
       "             ('Poron', 'S66'),\n",
       "             ('Poron', 'S67'),\n",
       "             ('Poron', 'S68'),\n",
       "             ('Poron', 'S69'),\n",
       "             ('Poron',  'S7'),\n",
       "             ('Poron', 'S70'),\n",
       "             ('Poron', 'S72'),\n",
       "             ('Poron', 'S73'),\n",
       "             ('Poron', 'S76'),\n",
       "             ('Poron',  'S9')],\n",
       "            names=['condition', 'subject'], length=300))"
      ]
     },
     "execution_count": 55,
     "metadata": {},
     "output_type": "execute_result"
    }
   ],
   "source": [
    "len(dataset), dataset.index"
   ]
  },
  {
   "cell_type": "code",
   "execution_count": 56,
   "metadata": {},
   "outputs": [
    {
     "data": {
      "text/plain": [
       "(tensor([6.2924e-03, 9.6259e-03, 1.5414e-02, 1.5651e-02, 3.1875e-03, 6.9745e-03,\n",
       "         3.5178e-02, 4.7206e-02, 4.6440e-02, 3.8962e-02, 2.4400e-02, 0.0000e+00,\n",
       "         2.6969e-02, 6.2229e-02, 1.0468e-01, 7.7406e-02, 5.8048e-02, 3.8865e-02,\n",
       "         1.8477e-02, 4.3848e-03, 3.3641e-02, 4.8474e-02, 4.9649e-02, 4.2662e-02,\n",
       "         3.2025e-02, 1.0924e-02, 0.0000e+00, 1.1905e-02, 2.7969e-02, 4.4200e-02,\n",
       "         4.7836e-02, 5.0005e-02, 2.6128e-02, 0.0000e+00, 4.7869e-04, 8.4922e-03,\n",
       "         3.5789e-02, 6.4905e-02, 9.6282e-02, 6.1963e-02, 0.0000e+00, 1.2975e-03,\n",
       "         1.1044e-02, 3.0465e-02, 5.0751e-02, 8.9682e-02, 5.2298e-02, 5.7147e-04,\n",
       "         4.9227e-03, 6.5205e-03, 1.6741e-02, 2.6580e-02, 3.7870e-02, 2.2128e-02,\n",
       "         1.2332e-03, 9.1678e-03, 7.7575e-03, 1.1921e-02, 1.8879e-02, 1.9622e-02,\n",
       "         1.8109e-02, 9.4942e-03, 2.4395e-02, 1.3049e-02, 1.5704e-02, 2.4979e-02,\n",
       "         2.8689e-02, 2.3088e-02, 3.8576e-02, 3.9864e-02, 3.6333e-02, 4.5929e-02,\n",
       "         4.2513e-02, 5.1337e-02, 2.0263e-02, 3.8024e-02, 6.6638e-02, 7.9414e-02,\n",
       "         7.1228e-02, 8.0071e-02, 3.2600e-02, 5.2385e-03, 1.7701e-02, 4.1281e-02,\n",
       "         7.0795e-02, 4.6263e-02, 3.9417e-02, 1.9976e-02, 9.6547e-05, 1.7852e-02,\n",
       "         1.0498e-02, 1.5613e-03, 6.2306e-03, 4.9520e-03, 4.3513e-03, 1.6844e-02,\n",
       "         1.5687e-02, 2.0711e-02, 1.4350e-02, 2.6960e-03, 8.4581e-03, 2.6552e-02,\n",
       "         2.6923e-02, 1.7494e-02, 5.7072e-04, 4.6903e-02, 9.9430e-02, 1.0325e-01,\n",
       "         8.4249e-02, 5.9077e-02, 0.0000e+00, 5.4010e-02, 7.9563e-02, 1.2728e-01,\n",
       "         1.1876e-01, 1.0568e-01, 1.8673e-01, 1.6906e-01, 4.0099e-03, 5.3471e-02,\n",
       "         5.0439e-02, 5.9814e-02, 5.5122e-02, 4.5926e-02, 2.0464e-02, 0.0000e+00,\n",
       "         3.8347e-02, 2.3319e-02, 3.1092e-02, 4.4970e-02, 4.7521e-02, 3.4462e-02,\n",
       "         0.0000e+00, 5.3743e-03, 8.7475e-03, 2.3884e-02, 4.6262e-02, 7.6806e-02,\n",
       "         7.3390e-02, 1.1696e-04, 3.5923e-03, 1.0076e-02, 2.0981e-02, 4.8319e-02,\n",
       "         7.0828e-02, 5.6214e-02, 4.6784e-04, 3.2719e-02, 7.8902e-03, 8.6987e-03,\n",
       "         2.9562e-02, 2.7618e-02, 2.9515e-02, 3.9884e-03, 3.0703e-02, 8.3587e-03,\n",
       "         9.2175e-03, 1.4805e-02, 1.9429e-02, 2.5208e-02, 2.4133e-02, 4.7233e-02,\n",
       "         2.1059e-02, 1.0711e-02, 1.5981e-02, 2.0194e-02, 2.9310e-02, 4.6874e-02,\n",
       "         4.3161e-02, 5.7424e-02, 3.9966e-02, 2.6143e-02, 4.5108e-02, 1.9847e-02,\n",
       "         4.2107e-02, 5.4623e-02, 1.2242e-01, 8.0044e-02, 6.5087e-02, 3.0666e-02,\n",
       "         1.5261e-03, 2.8190e-02, 4.2646e-02, 6.7598e-02, 4.5969e-02, 1.6704e-02,\n",
       "         7.4954e-03, 0.0000e+00, 2.0618e-02, 3.9515e-03, 9.1792e-03, 1.0413e-02,\n",
       "         6.3986e-03, 2.3018e-03, 1.6882e-02, 1.6261e-02, 1.7896e-02, 1.1819e-02]),\n",
       " tensor([0.0394, 0.0677, 0.0804, 0.0765, 0.0679, 0.0525, 0.1400, 0.2035, 0.2090,\n",
       "         0.1803, 0.1214, 0.0000, 0.1289, 0.1663, 0.1869, 0.3508, 0.2493, 0.1635,\n",
       "         0.0834, 0.0408, 0.1332, 0.1948, 0.1823, 0.1689, 0.1376, 0.0550, 0.0000,\n",
       "         0.0561, 0.0951, 0.1442, 0.1547, 0.1375, 0.1041, 0.0000, 0.0347, 0.0451,\n",
       "         0.1182, 0.1900, 0.1540, 0.1921, 0.0000, 0.0380, 0.0465, 0.0968, 0.1547,\n",
       "         0.1795, 0.1631, 0.0236, 0.0468, 0.0447, 0.0570, 0.0829, 0.0628, 0.0682,\n",
       "         0.0308, 0.0402, 0.0571, 0.0487, 0.0638, 0.0616, 0.0601, 0.0725, 0.0435,\n",
       "         0.0543, 0.0802, 0.0750, 0.0817, 0.0751, 0.2131, 0.0774, 0.1530, 0.0994,\n",
       "         0.1273, 0.1029, 0.0762, 0.1702, 0.0948, 0.1868, 0.2014, 0.1463, 0.1348,\n",
       "         0.0530, 0.1046, 0.0819, 0.1258, 0.1722, 0.0869, 0.0407, 0.0347, 0.1167,\n",
       "         0.0326, 0.0354, 0.0425, 0.0407, 0.0437, 0.1458, 0.1489, 0.0584, 0.1406,\n",
       "         0.0590, 0.0882, 0.1202, 0.1052, 0.0903, 0.0194, 0.1604, 0.2502, 0.3205,\n",
       "         0.2609, 0.1898, 0.0000, 0.0801, 0.1097, 0.1646, 0.2020, 0.1427, 0.2100,\n",
       "         0.1921, 0.0442, 0.0592, 0.1407, 0.1709, 0.1626, 0.1394, 0.0874, 0.0000,\n",
       "         0.0526, 0.0704, 0.1013, 0.1321, 0.1367, 0.1150, 0.0000, 0.0369, 0.0500,\n",
       "         0.0774, 0.1308, 0.1083, 0.1938, 0.0111, 0.0361, 0.0459, 0.0771, 0.1391,\n",
       "         0.0923, 0.1786, 0.0111, 0.0382, 0.0432, 0.0489, 0.0700, 0.0719, 0.0910,\n",
       "         0.0394, 0.0371, 0.0495, 0.0487, 0.0635, 0.0600, 0.0753, 0.0631, 0.0632,\n",
       "         0.0520, 0.0614, 0.0648, 0.1007, 0.0988, 0.1590, 0.1258, 0.0989, 0.1323,\n",
       "         0.1049, 0.0692, 0.1175, 0.1712, 0.1053, 0.2195, 0.2114, 0.1115, 0.0464,\n",
       "         0.0514, 0.1018, 0.0582, 0.1116, 0.1846, 0.1332, 0.0338, 0.0000, 0.0937,\n",
       "         0.0465, 0.0359, 0.0674, 0.0560, 0.0410, 0.1232, 0.1312, 0.1133, 0.1161]))"
      ]
     },
     "execution_count": 56,
     "metadata": {},
     "output_type": "execute_result"
    }
   ],
   "source": [
    "dataset[0]"
   ]
  },
  {
   "cell_type": "code",
   "execution_count": 57,
   "metadata": {},
   "outputs": [
    {
     "name": "stdout",
     "output_type": "stream",
     "text": [
      "('BF', 'S1')\n",
      "static pressure\n"
     ]
    },
    {
     "data": {
      "image/png": "[encoded data removed]",
      "text/plain": [
       "<Figure size 640x480 with 4 Axes>"
      ]
     },
     "metadata": {},
     "output_type": "display_data"
    },
    {
     "name": "stdout",
     "output_type": "stream",
     "text": [
      "dynamic pressure\n"
     ]
    },
    {
     "data": {
      "image/png": "[encoded data removed]",
      "text/plain": [
       "<Figure size 640x480 with 4 Axes>"
      ]
     },
     "metadata": {},
     "output_type": "display_data"
    }
   ],
   "source": [
    "print(dataset.index[0])\n",
    "print('static pressure')\n",
    "dataset.draw_heatmap(dataset[0][0].detach().cpu().numpy())\n",
    "print('dynamic pressure')\n",
    "dataset.draw_heatmap(dataset[0][1].detach().cpu().numpy())"
   ]
  },
  {
   "cell_type": "markdown",
   "metadata": {},
   "source": [
    "## Dataloader"
   ]
  },
  {
   "cell_type": "code",
   "execution_count": 58,
   "metadata": {},
   "outputs": [
    {
     "data": {
      "text/plain": [
       "(240, 60)"
      ]
     },
     "execution_count": 58,
     "metadata": {},
     "output_type": "execute_result"
    }
   ],
   "source": [
    "from torch.utils.data import random_split\n",
    "\n",
    "train_dataset, test_dataset = random_split(dataset, [0.8, 0.2])\n",
    "len(train_dataset), len(test_dataset)"
   ]
  },
  {
   "cell_type": "code",
   "execution_count": 59,
   "metadata": {},
   "outputs": [],
   "source": [
    "from torch.utils.data import DataLoader\n",
    "\n",
    "train_dataloader = DataLoader(train_dataset, batch_size=32, shuffle=True)\n",
    "test_dataloader = DataLoader(test_dataset, batch_size=32, shuffle=True)"
   ]
  },
  {
   "cell_type": "code",
   "execution_count": 60,
   "metadata": {},
   "outputs": [
    {
     "name": "stdout",
     "output_type": "stream",
     "text": [
      "Feature batch shape: torch.Size([32, 198])\n",
      "Labels batch shape: torch.Size([32, 198])\n"
     ]
    }
   ],
   "source": [
    "train_features, train_labels = next(iter(train_dataloader))\n",
    "print(f\"Feature batch shape: {train_features.size()}\")\n",
    "print(f\"Labels batch shape: {train_labels.size()}\")"
   ]
  },
  {
   "cell_type": "code",
   "execution_count": 61,
   "metadata": {},
   "outputs": [
    {
     "data": {
      "text/plain": [
       "tensor([[1.0792e-02, 4.9118e-02, 6.4341e-02,  ..., 2.3895e-05, 7.8139e-03,\n",
       "         0.0000e+00],\n",
       "        [8.5373e-04, 1.1285e-02, 2.4565e-02,  ..., 2.3691e-05, 1.3655e-02,\n",
       "         0.0000e+00],\n",
       "        [7.8987e-03, 3.8211e-02, 7.2764e-02,  ..., 3.5480e-02, 2.5184e-02,\n",
       "         1.4954e-03],\n",
       "        ...,\n",
       "        [7.9976e-04, 1.0754e-02, 2.5509e-02,  ..., 0.0000e+00, 2.5767e-02,\n",
       "         9.1381e-03],\n",
       "        [2.7174e-03, 1.4268e-02, 2.6974e-02,  ..., 3.5273e-03, 6.2033e-03,\n",
       "         0.0000e+00],\n",
       "        [3.5592e-02, 6.4747e-02, 7.2454e-02,  ..., 1.1001e-02, 3.0219e-02,\n",
       "         1.5543e-03]], device='mps:0')"
      ]
     },
     "execution_count": 61,
     "metadata": {},
     "output_type": "execute_result"
    }
   ],
   "source": [
    "train_features.to(device)"
   ]
  },
  {
   "cell_type": "code",
   "execution_count": null,
   "metadata": {},
   "outputs": [],
   "source": []
  }
 ],
 "metadata": {
  "kernelspec": {
   "display_name": "pytorch",
   "language": "python",
   "name": "python3"
  },
  "language_info": {
   "codemirror_mode": {
    "name": "ipython",
    "version": 3
   },
   "file_extension": ".py",
   "mimetype": "text/x-python",
   "name": "python",
   "nbconvert_exporter": "python",
   "pygments_lexer": "ipython3",
   "version": "3.9.16"
  }
 },
 "nbformat": 4,
 "nbformat_minor": 2
}
